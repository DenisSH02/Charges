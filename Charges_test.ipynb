{
 "cells": [
  {
   "cell_type": "code",
   "execution_count": 1,
   "id": "4517333a-de85-4251-8cb9-5ff7553884ed",
   "metadata": {},
   "outputs": [],
   "source": [
    "import folium\n",
    "\n",
    "# Створення карти на базі OpenStreetMap\n",
    "map_ex = folium.Map(\n",
    "    location=[49.9922, 36.2312],  # Центр Харкова\n",
    "    tiles=\"OpenStreetMap\",\n",
    "    zoom_start=12\n",
    ")\n",
    "\n",
    "# Дані про зарядки\n",
    "stations = [\n",
    "    {\n",
    "        \"location\": [49.9935, 36.2304],\n",
    "        \"name\": \"EcoCharge Центр\",\n",
    "        \"ports\": 4,\n",
    "        \"power_kW\": 120,\n",
    "        \"description\": \"Станція швидкої зарядки на парковці ТРЦ\"\n",
    "    },\n",
    "    {\n",
    "        \"location\": [49.9879, 36.2522],\n",
    "        \"name\": \"GreenPoint Sumska\",\n",
    "        \"ports\": 2,\n",
    "        \"power_kW\": 22,\n",
    "        \"description\": \"Бюджетна станція з повільною зарядкою\"\n",
    "    },\n",
    "    {\n",
    "        \"location\": [50.0055, 36.2751],\n",
    "        \"name\": \"VoltWay Салтівка\",\n",
    "        \"ports\": 3,\n",
    "        \"power_kW\": 100,\n",
    "        \"description\": \"Швидка зарядка на вʼїзді до міста\"\n",
    "    }\n",
    "]\n",
    "\n",
    "# Додавання маркерів\n",
    "for st in stations:\n",
    "    popup_text = f\"\"\"\n",
    "    <b>{st['name']}</b><br>\n",
    "    Портів: {st['ports']}<br>\n",
    "    Потужність: {st['power_kW']} кВт<br>\n",
    "    Опис: {st['description']}\n",
    "    \"\"\"\n",
    "    folium.Marker(\n",
    "        location=st[\"location\"],\n",
    "        popup=folium.Popup(popup_text, max_width=300),\n",
    "        tooltip=\"⚡ Натисни для деталей\",\n",
    "        icon=folium.Icon(color=\"green\", icon=\"bolt\", prefix=\"fa\")\n",
    "    ).add_to(map_ex)\n",
    "\n",
    "# Збереження в HTML\n",
    "map_ex.save(\"index.html\")\n"
   ]
  },
  {
   "cell_type": "code",
   "execution_count": null,
   "id": "4635917e-d13e-4a3d-8944-4a53f99f9b27",
   "metadata": {},
   "outputs": [],
   "source": []
  }
 ],
 "metadata": {
  "kernelspec": {
   "display_name": "Python [conda env:base] *",
   "language": "python",
   "name": "conda-base-py"
  },
  "language_info": {
   "codemirror_mode": {
    "name": "ipython",
    "version": 3
   },
   "file_extension": ".py",
   "mimetype": "text/x-python",
   "name": "python",
   "nbconvert_exporter": "python",
   "pygments_lexer": "ipython3",
   "version": "3.12.7"
  }
 },
 "nbformat": 4,
 "nbformat_minor": 5
}
